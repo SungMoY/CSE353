{
 "cells": [
  {
   "cell_type": "code",
   "execution_count": 1,
   "id": "f2187020",
   "metadata": {},
   "outputs": [],
   "source": [
    "#common packages we basically always need\n",
    "import numpy as np\n",
    "import matplotlib.pyplot as plt\n",
    "import time"
   ]
  },
  {
   "cell_type": "code",
   "execution_count": 2,
   "id": "4db3727d",
   "metadata": {},
   "outputs": [
    {
     "name": "stdout",
     "output_type": "stream",
     "text": [
      "{'__header__': b'MATLAB 5.0 MAT-file Platform: posix, Created on: Wed Oct 18 19:00:09 2017', '__version__': '1.0', '__globals__': [], 'testX': array([[0, 0, 0, ..., 0, 0, 0],\n",
      "       [0, 0, 0, ..., 0, 0, 0],\n",
      "       [0, 0, 0, ..., 0, 0, 0],\n",
      "       ...,\n",
      "       [0, 0, 0, ..., 0, 0, 0],\n",
      "       [0, 0, 0, ..., 0, 0, 0],\n",
      "       [0, 0, 0, ..., 0, 0, 0]], dtype=uint8), 'testY': array([[7, 2, 1, ..., 4, 5, 6]], dtype=uint8), 'trainY': array([[5, 0, 4, ..., 5, 6, 8]], dtype=uint8), 'trainX': array([[0, 0, 0, ..., 0, 0, 0],\n",
      "       [0, 0, 0, ..., 0, 0, 0],\n",
      "       [0, 0, 0, ..., 0, 0, 0],\n",
      "       ...,\n",
      "       [0, 0, 0, ..., 0, 0, 0],\n",
      "       [0, 0, 0, ..., 0, 0, 0],\n",
      "       [0, 0, 0, ..., 0, 0, 0]], dtype=uint8)}\n"
     ]
    },
    {
     "data": {
      "image/png": "[encoded data removed]",
      "text/plain": [
       "<Figure size 640x480 with 9 Axes>"
      ]
     },
     "metadata": {},
     "output_type": "display_data"
    }
   ],
   "source": [
    "#load the MNIST dataset with binary pixel values\n",
    "import scipy.io as sio\n",
    "data = sio.loadmat('mnist.mat')\n",
    "print(data)\n",
    "\n",
    "\n",
    "\n",
    "Xtrain, Xtest = data['trainX'].astype(float), data['testX'].astype(float)\n",
    "ytrain, ytest = data['trainY'][0], data['testY'][0]\n",
    "\n",
    "#pull and plot some samples\n",
    "for k in range(9):\n",
    "    plot_data = Xtrain[k,:]\n",
    "    plot_data = np.reshape(plot_data,(28,28))\n",
    "    plot_label = ytrain[k]\n",
    "    plt.subplot(3,3,k+1)\n",
    "    plt.imshow(plot_data)\n",
    "    plt.title(plot_label)\n",
    "plt.tight_layout()\n",
    "\n",
    "def get_small_dataset(X,y,m):\n",
    "    return X[:m,:],y[:m]\n",
    "\n",
    "num_labels = len(np.unique(ytrain))\n",
    "num_feats = Xtrain.shape[1]"
   ]
  },
  {
   "cell_type": "code",
   "execution_count": 3,
   "id": "27ea988b",
   "metadata": {},
   "outputs": [
    {
     "name": "stdout",
     "output_type": "stream",
     "text": [
      "0.0\n",
      "6069462.0\n",
      "5661744.0\n"
     ]
    }
   ],
   "source": [
    "def get_dist(Xtrain,zquery):\n",
    "    #initialize empty array\n",
    "    #iterate through the 60000 subarrays in Xtrain\n",
    "    #for each subarray, subtract zquery from it, then square the difference, then sum elements to get single value\n",
    "    #subtracting ndarrays is actually super intuitive, it subtracts corresponding elements to retain vector dimensions\n",
    "    returnArray = []\n",
    "    for innerArray in Xtrain:\n",
    "        returnArray.append(np.sum(np.square(innerArray - zquery)))\n",
    "    return returnArray\n",
    "\n",
    "#right values? idk lol\n",
    "#0.0\n",
    "#6069462.0\n",
    "#5661744.0\n",
    "\n",
    "print(get_dist(Xtrain,Xtrain[0,:])[0])\n",
    "print(get_dist(Xtrain,Xtest[0,:])[10])\n",
    "print(get_dist(Xtrain,Xtest[10,:])[50])\n"
   ]
  },
  {
   "cell_type": "code",
   "execution_count": 4,
   "id": "2650aba5",
   "metadata": {},
   "outputs": [
    {
     "name": "stdout",
     "output_type": "stream",
     "text": [
      "[7 2 1 0 4 1 9 4 6 9 0 9 9 0 1 9 7 7 3 4]\n",
      "[7 2 1 0 4 1 4 9 5 9 0 6 9 0 1 5 9 7 3 4]\n"
     ]
    }
   ],
   "source": [
    "import scipy.stats as ss\n",
    "\n",
    "m = 100\n",
    "K = 3\n",
    "\n",
    "Xtrain_small, ytrain_small = get_small_dataset(Xtrain,ytrain,m)\n",
    "\n",
    "def pred(zquery,Xtrain,ytrain, K):\n",
    "    #zquery is a 1-d vector, the testing point. In this case, its vector size is 784\n",
    "    #Xtrain is a 2-d vector, containing the training data. In this case, it has 100 vectors of size 784\n",
    "    #ytrain is a 1-d vector, containing the labels of the data in Xtrain .In this case, its vector size is 100 and all the elements are the number 5\n",
    "    #K is the number of closest neighbors to look at\n",
    "    \n",
    "    distArray = get_dist(Xtrain, zquery)\n",
    "    distArray = np.array(distArray)  #i think this can be removed? it gives access to numpy array functions\n",
    "    #distArray is a 1d array holding all distances between each vector from Xtrain and zquery\n",
    "    \n",
    "    #get the index place of the valuye from ss.mode\n",
    "    #connect it to its label\n",
    "    #return its label\n",
    "    neighborsLabel = []\n",
    "    \n",
    "    for neighborNum in range(K):\n",
    "        \n",
    "        #modeValue = ss.mode(distArray)[0][0]\n",
    "        nearestNeighborValue = np.amin(distArray)\n",
    "        nearestNeighborIndex = np.where(distArray==nearestNeighborValue)\n",
    "        #distArray.remove(nearestNeighborValue)\n",
    "        distArray = np.delete(distArray, nearestNeighborIndex)\n",
    "        neighborsLabel.append(ytrain[nearestNeighborIndex])\n",
    "        ytrain = np.delete(ytrain, nearestNeighborIndex)\n",
    "    \n",
    "    #now i possess the the nearest k neighbors, where k is a preset number of neighbors to retrieve\n",
    "    #now i need to determine which to return\n",
    "    #if there is only 1 neighbor, return that\n",
    "    #else if the majority neighbor is only 1, then the labels are just >1 different labels so get average rounded to int\n",
    "    #else if there is a clear majority, return that majority\n",
    "    \n",
    "    #leftmost is closest\n",
    "    #print(\"neighbors: \",neighborsLabel)\n",
    "    if (len(neighborsLabel) == 1):\n",
    "        #print(\"selected singley: \",neighborsLabel[0])\n",
    "        return neighborsLabel[0]\n",
    "    else:\n",
    "        modeNeighborsObject = ss.mode(neighborsLabel)\n",
    "        if (modeNeighborsObject[1][0] == 1):\n",
    "            #print(\"selected leftmost: \", (neighborsLabel[0]))\n",
    "            return neighborsLabel[0]\n",
    "        else:\n",
    "            #print(\"selected most: \",modeNeighborsObject[0][0])\n",
    "            return modeNeighborsObject[0][0]\n",
    "        \n",
    "ytest_pred = ytest + 0    \n",
    "for k in range(Xtest.shape[0]):\n",
    "    z = Xtest[k,:]\n",
    "    ytest_pred[k] = pred(z,Xtrain_small, ytrain_small, K)\n",
    "    \n",
    "print(ytest_pred[:20])\n",
    "print(ytest[:20])"
   ]
  },
  {
   "cell_type": "code",
   "execution_count": 5,
   "id": "eac910ab",
   "metadata": {},
   "outputs": [
    {
     "data": {
      "text/plain": [
       "0.6694"
      ]
     },
     "execution_count": 5,
     "metadata": {},
     "output_type": "execute_result"
    }
   ],
   "source": [
    "def get_accuracy(ytest, ypred):\n",
    "    #the ratio of the number of correct predictions to the total number of input samples\n",
    "    accuCount = 0\n",
    "    for i in range(len(ytest)):\n",
    "        if (ytest[i] == ypred[i]):\n",
    "            accuCount = accuCount + 1\n",
    "\n",
    "        \n",
    "    return accuCount / len(ytest)\n",
    "\n",
    "get_accuracy(ytest,ytest_pred)"
   ]
  },
  {
   "cell_type": "code",
   "execution_count": null,
   "id": "c6fa75de",
   "metadata": {},
   "outputs": [
    {
     "name": "stdout",
     "output_type": "stream",
     "text": [
      "100 1 0.6794 10.769020795822144\n",
      "100 3 0.6694 12.489173650741577\n",
      "100 5 0.6267 13.059937000274658\n",
      "1000 1 0.869 105.50663352012634\n",
      "1000 3 0.872 108.56575012207031\n",
      "1000 5 0.8585 107.66077542304993\n",
      "2500 1 0.9136 261.1103050708771\n"
     ]
    }
   ],
   "source": [
    "import time\n",
    "for m in [100,1000, 2500]:\n",
    "    Xtrain_small, ytrain_small = get_small_dataset(Xtrain,ytrain,m)\n",
    "    for K in [1,3,5]:\n",
    "        \n",
    "        start = time.time()\n",
    "        ytest_pred = ytest + 0    \n",
    "        for k in range(Xtest.shape[0]):\n",
    "            z = Xtest[k,:]\n",
    "            ytest_pred[k] = pred(z,Xtrain_small, ytrain_small, K)\n",
    "    \n",
    "        print(m,K,get_accuracy(ytest,ytest_pred), time.time()-start)"
   ]
  },
  {
   "cell_type": "code",
   "execution_count": null,
   "id": "431fd849",
   "metadata": {},
   "outputs": [],
   "source": []
  }
 ],
 "metadata": {
  "kernelspec": {
   "display_name": "Python 3 (ipykernel)",
   "language": "python",
   "name": "python3"
  },
  "language_info": {
   "codemirror_mode": {
    "name": "ipython",
    "version": 3
   },
   "file_extension": ".py",
   "mimetype": "text/x-python",
   "name": "python",
   "nbconvert_exporter": "python",
   "pygments_lexer": "ipython3",
   "version": "3.10.4"
  },
  "vscode": {
   "interpreter": {
    "hash": "26de051ba29f2982a8de78e945f0abaf191376122a1563185a90213a26c5da77"
   }
  }
 },
 "nbformat": 4,
 "nbformat_minor": 5
}
